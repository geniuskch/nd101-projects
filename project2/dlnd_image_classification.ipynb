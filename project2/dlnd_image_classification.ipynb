{
 "cells": [
  {
   "cell_type": "markdown",
   "metadata": {
    "collapsed": true,
    "deletable": true,
    "editable": true
   },
   "source": [
    "# Image Classification\n",
    "In this project, you'll classify images from the [CIFAR-10 dataset](https://www.cs.toronto.edu/~kriz/cifar.html).  The dataset consists of airplanes, dogs, cats, and other objects. You'll preprocess the images, then train a convolutional neural network on all the samples. The images need to be normalized and the labels need to be one-hot encoded.  You'll get to apply what you learned and build a convolutional, max pooling, dropout, and fully connected layers.  At the end, you'll get to see your neural network's predictions on the sample images.\n",
    "## Get the Data\n",
    "Run the following cell to download the [CIFAR-10 dataset for python](https://www.cs.toronto.edu/~kriz/cifar-10-python.tar.gz)."
   ]
  },
  {
   "cell_type": "code",
   "execution_count": 1,
   "metadata": {
    "collapsed": false,
    "deletable": true,
    "editable": true
   },
   "outputs": [
    {
     "name": "stdout",
     "output_type": "stream",
     "text": [
      "All files found!\n"
     ]
    }
   ],
   "source": [
    "\"\"\"\n",
    "DON'T MODIFY ANYTHING IN THIS CELL THAT IS BELOW THIS LINE\n",
    "\"\"\"\n",
    "from urllib.request import urlretrieve\n",
    "from os.path import isfile, isdir\n",
    "from tqdm import tqdm\n",
    "import problem_unittests as tests\n",
    "import tarfile\n",
    "\n",
    "cifar10_dataset_folder_path = 'cifar-10-batches-py'\n",
    "\n",
    "class DLProgress(tqdm):\n",
    "    last_block = 0\n",
    "\n",
    "    def hook(self, block_num=1, block_size=1, total_size=None):\n",
    "        self.total = total_size\n",
    "        self.update((block_num - self.last_block) * block_size)\n",
    "        self.last_block = block_num\n",
    "\n",
    "if not isfile('cifar-10-python.tar.gz'):\n",
    "    with DLProgress(unit='B', unit_scale=True, miniters=1, desc='CIFAR-10 Dataset') as pbar:\n",
    "        urlretrieve(\n",
    "            'https://www.cs.toronto.edu/~kriz/cifar-10-python.tar.gz',\n",
    "            'cifar-10-python.tar.gz',\n",
    "            pbar.hook)\n",
    "\n",
    "if not isdir(cifar10_dataset_folder_path):\n",
    "    with tarfile.open('cifar-10-python.tar.gz') as tar:\n",
    "        tar.extractall()\n",
    "        tar.close()\n",
    "\n",
    "\n",
    "tests.test_folder_path(cifar10_dataset_folder_path)"
   ]
  },
  {
   "cell_type": "markdown",
   "metadata": {
    "deletable": true,
    "editable": true
   },
   "source": [
    "## Explore the Data\n",
    "The dataset is broken into batches to prevent your machine from running out of memory.  The CIFAR-10 dataset consists of 5 batches, named `data_batch_1`, `data_batch_2`, etc.. Each batch contains the labels and images that are one of the following:\n",
    "* airplane\n",
    "* automobile\n",
    "* bird\n",
    "* cat\n",
    "* deer\n",
    "* dog\n",
    "* frog\n",
    "* horse\n",
    "* ship\n",
    "* truck\n",
    "\n",
    "Understanding a dataset is part of making predictions on the data.  Play around with the code cell below by changing the `batch_id` and `sample_id`. The `batch_id` is the id for a batch (1-5). The `sample_id` is the id for a image and label pair in the batch.\n",
    "\n",
    "Ask yourself \"What are all possible labels?\", \"What is the range of values for the image data?\", \"Are the labels in order or random?\".  Answers to questions like these will help you preprocess the data and end up with better predictions."
   ]
  },
  {
   "cell_type": "code",
   "execution_count": 2,
   "metadata": {
    "collapsed": false,
    "deletable": true,
    "editable": true
   },
   "outputs": [
    {
     "name": "stdout",
     "output_type": "stream",
     "text": [
      "\n",
      "Stats of batch 4:\n",
      "Samples: 10000\n",
      "Label Counts: {0: 1003, 1: 963, 2: 1041, 3: 976, 4: 1004, 5: 1021, 6: 1004, 7: 981, 8: 1024, 9: 983}\n",
      "First 20 Labels: [0, 6, 0, 2, 7, 2, 1, 2, 4, 1, 5, 6, 6, 3, 1, 3, 5, 5, 8, 1]\n",
      "\n",
      "Example of Image 1:\n",
      "Image - Min Value: 0 Max Value: 246\n",
      "Image - Shape: (32, 32, 3)\n",
      "Label - Label Id: 6 Name: frog\n"
     ]
    },
    {
     "data": {
      "image/png": "[encoded data removed]",
      "text/plain": [
       "<matplotlib.figure.Figure at 0x7f645c4cce10>"
      ]
     },
     "metadata": {
      "image/png": {
       "height": 250,
       "width": 253
      }
     },
     "output_type": "display_data"
    }
   ],
   "source": [
    "%matplotlib inline\n",
    "%config InlineBackend.figure_format = 'retina'\n",
    "\n",
    "import helper\n",
    "import numpy as np\n",
    "\n",
    "# Explore the dataset\n",
    "batch_id = 4\n",
    "sample_id = 1\n",
    "helper.display_stats(cifar10_dataset_folder_path, batch_id, sample_id)"
   ]
  },
  {
   "cell_type": "markdown",
   "metadata": {
    "deletable": true,
    "editable": true
   },
   "source": [
    "## Implement Preprocess Functions\n",
    "### Normalize\n",
    "In the cell below, implement the `normalize` function to take in image data, `x`, and return it as a normalized Numpy array. The values should be in the range of 0 to 1, inclusive.  The return object should be the same shape as `x`."
   ]
  },
  {
   "cell_type": "code",
   "execution_count": 3,
   "metadata": {
    "collapsed": false,
    "deletable": true,
    "editable": true
   },
   "outputs": [
    {
     "name": "stdout",
     "output_type": "stream",
     "text": [
      "Tests Passed\n"
     ]
    }
   ],
   "source": [
    "def normalize(x):\n",
    "    \"\"\"\n",
    "    Normalize a list of sample image data in the range of 0 to 1\n",
    "    : x: List of image data.  The image shape is (32, 32, 3)\n",
    "    : return: Numpy array of normalize data\n",
    "    \"\"\"\n",
    "    # TODO: Implement Function    \n",
    "    return (x-np.min(x)) / (np.max(x) - np.min(x))\n",
    "\n",
    "\n",
    "\"\"\"\n",
    "DON'T MODIFY ANYTHING IN THIS CELL THAT IS BELOW THIS LINE\n",
    "\"\"\"\n",
    "tests.test_normalize(normalize)"
   ]
  },
  {
   "cell_type": "markdown",
   "metadata": {
    "deletable": true,
    "editable": true
   },
   "source": [
    "### One-hot encode\n",
    "Just like the previous code cell, you'll be implementing a function for preprocessing.  This time, you'll implement the `one_hot_encode` function. The input, `x`, are a list of labels.  Implement the function to return the list of labels as One-Hot encoded Numpy array.  The possible values for labels are 0 to 9. The one-hot encoding function should return the same encoding for each value between each call to `one_hot_encode`.  Make sure to save the map of encodings outside the function.\n",
    "\n",
    "Hint: Don't reinvent the wheel."
   ]
  },
  {
   "cell_type": "code",
   "execution_count": 4,
   "metadata": {
    "collapsed": false,
    "deletable": true,
    "editable": true
   },
   "outputs": [
    {
     "name": "stdout",
     "output_type": "stream",
     "text": [
      "Tests Passed\n"
     ]
    }
   ],
   "source": [
    "def one_hot_encode(x):\n",
    "    \"\"\"\n",
    "    One hot encode a list of sample labels. Return a one-hot encoded vector for each label.\n",
    "    : x: List of sample Labels\n",
    "    : return: Numpy array of one-hot encoded labels\n",
    "    \"\"\"\n",
    "    # TODO: Implement Function\n",
    "    \n",
    "    return np.eye(10)[x]\n",
    "\n",
    "\n",
    "\"\"\"\n",
    "DON'T MODIFY ANYTHING IN THIS CELL THAT IS BELOW THIS LINE\n",
    "\"\"\"\n",
    "tests.test_one_hot_encode(one_hot_encode)"
   ]
  },
  {
   "cell_type": "markdown",
   "metadata": {
    "deletable": true,
    "editable": true
   },
   "source": [
    "### Randomize Data\n",
    "As you saw from exploring the data above, the order of the samples are randomized.  It doesn't hurt to randomize it again, but you don't need to for this dataset."
   ]
  },
  {
   "cell_type": "markdown",
   "metadata": {
    "deletable": true,
    "editable": true
   },
   "source": [
    "## Preprocess all the data and save it\n",
    "Running the code cell below will preprocess all the CIFAR-10 data and save it to file. The code below also uses 10% of the training data for validation."
   ]
  },
  {
   "cell_type": "code",
   "execution_count": 5,
   "metadata": {
    "collapsed": false,
    "deletable": true,
    "editable": true
   },
   "outputs": [],
   "source": [
    "\"\"\"\n",
    "DON'T MODIFY ANYTHING IN THIS CELL\n",
    "\"\"\"\n",
    "# Preprocess Training, Validation, and Testing Data\n",
    "helper.preprocess_and_save_data(cifar10_dataset_folder_path, normalize, one_hot_encode)"
   ]
  },
  {
   "cell_type": "markdown",
   "metadata": {
    "deletable": true,
    "editable": true
   },
   "source": [
    "# Check Point\n",
    "This is your first checkpoint.  If you ever decide to come back to this notebook or have to restart the notebook, you can start from here.  The preprocessed data has been saved to disk."
   ]
  },
  {
   "cell_type": "code",
   "execution_count": 6,
   "metadata": {
    "collapsed": true,
    "deletable": true,
    "editable": true
   },
   "outputs": [],
   "source": [
    "\"\"\"\n",
    "DON'T MODIFY ANYTHING IN THIS CELL\n",
    "\"\"\"\n",
    "import pickle\n",
    "import problem_unittests as tests\n",
    "import helper\n",
    "\n",
    "# Load the Preprocessed Validation data\n",
    "valid_features, valid_labels = pickle.load(open('preprocess_validation.p', mode='rb'))"
   ]
  },
  {
   "cell_type": "markdown",
   "metadata": {
    "deletable": true,
    "editable": true
   },
   "source": [
    "## Build the network\n",
    "For the neural network, you'll build each layer into a function.  Most of the code you've seen has been outside of functions. To test your code more thoroughly, we require that you put each layer in a function.  This allows us to give you better feedback and test for simple mistakes using our unittests before you submit your project.\n",
    "\n",
    ">**Note:** If you're finding it hard to dedicate enough time for this course each week, we've provided a small shortcut to this part of the project. In the next couple of problems, you'll have the option to use classes from the [TensorFlow Layers](https://www.tensorflow.org/api_docs/python/tf/layers) or [TensorFlow Layers (contrib)](https://www.tensorflow.org/api_guides/python/contrib.layers) packages to build each layer, except the layers you build in the \"Convolutional and Max Pooling Layer\" section.  TF Layers is similar to Keras's and TFLearn's abstraction to layers, so it's easy to pickup.\n",
    "\n",
    ">However, if you would like to get the most out of this course, try to solve all the problems _without_ using anything from the TF Layers packages. You **can** still use classes from other packages that happen to have the same name as ones you find in TF Layers! For example, instead of using the TF Layers version of the `conv2d` class, [tf.layers.conv2d](https://www.tensorflow.org/api_docs/python/tf/layers/conv2d), you would want to use the TF Neural Network version of `conv2d`, [tf.nn.conv2d](https://www.tensorflow.org/api_docs/python/tf/nn/conv2d). \n",
    "\n",
    "Let's begin!\n",
    "\n",
    "### Input\n",
    "The neural network needs to read the image data, one-hot encoded labels, and dropout keep probability. Implement the following functions\n",
    "* Implement `neural_net_image_input`\n",
    " * Return a [TF Placeholder](https://www.tensorflow.org/api_docs/python/tf/placeholder)\n",
    " * Set the shape using `image_shape` with batch size set to `None`.\n",
    " * Name the TensorFlow placeholder \"x\" using the TensorFlow `name` parameter in the [TF Placeholder](https://www.tensorflow.org/api_docs/python/tf/placeholder).\n",
    "* Implement `neural_net_label_input`\n",
    " * Return a [TF Placeholder](https://www.tensorflow.org/api_docs/python/tf/placeholder)\n",
    " * Set the shape using `n_classes` with batch size set to `None`.\n",
    " * Name the TensorFlow placeholder \"y\" using the TensorFlow `name` parameter in the [TF Placeholder](https://www.tensorflow.org/api_docs/python/tf/placeholder).\n",
    "* Implement `neural_net_keep_prob_input`\n",
    " * Return a [TF Placeholder](https://www.tensorflow.org/api_docs/python/tf/placeholder) for dropout keep probability.\n",
    " * Name the TensorFlow placeholder \"keep_prob\" using the TensorFlow `name` parameter in the [TF Placeholder](https://www.tensorflow.org/api_docs/python/tf/placeholder).\n",
    "\n",
    "These names will be used at the end of the project to load your saved model.\n",
    "\n",
    "Note: `None` for shapes in TensorFlow allow for a dynamic size."
   ]
  },
  {
   "cell_type": "code",
   "execution_count": 7,
   "metadata": {
    "collapsed": false,
    "deletable": true,
    "editable": true
   },
   "outputs": [
    {
     "name": "stdout",
     "output_type": "stream",
     "text": [
      "Image Input Tests Passed.\n",
      "Label Input Tests Passed.\n",
      "Keep Prob Tests Passed.\n"
     ]
    }
   ],
   "source": [
    "import tensorflow as tf\n",
    "\n",
    "def neural_net_image_input(image_shape):\n",
    "    \"\"\"\n",
    "    Return a Tensor for a batch of image input\n",
    "    : image_shape: Shape of the images\n",
    "    : return: Tensor for image input.\n",
    "    \"\"\"\n",
    "    # TODO: Implement Function\n",
    "    _input = tf.placeholder(tf.float32, [None, *image_shape], name='x')\n",
    "    return _input\n",
    "\n",
    "\n",
    "def neural_net_label_input(n_classes):\n",
    "    \"\"\"\n",
    "    Return a Tensor for a batch of label input\n",
    "    : n_classes: Number of classes\n",
    "    : return: Tensor for label input.\n",
    "    \"\"\"\n",
    "    # TODO: Implement Function\n",
    "    return tf.placeholder(tf.float32, [None, n_classes], name='y')\n",
    "\n",
    "\n",
    "def neural_net_keep_prob_input():\n",
    "    \"\"\"\n",
    "    Return a Tensor for keep probability\n",
    "    : return: Tensor for keep probability.\n",
    "    \"\"\"\n",
    "    # TODO: Implement Function\n",
    "    return tf.placeholder(tf.float32, name='keep_prob')\n",
    "\n",
    "\n",
    "\"\"\"\n",
    "DON'T MODIFY ANYTHING IN THIS CELL THAT IS BELOW THIS LINE\n",
    "\"\"\"\n",
    "tf.reset_default_graph()\n",
    "tests.test_nn_image_inputs(neural_net_image_input)\n",
    "tests.test_nn_label_inputs(neural_net_label_input)\n",
    "tests.test_nn_keep_prob_inputs(neural_net_keep_prob_input)"
   ]
  },
  {
   "cell_type": "markdown",
   "metadata": {
    "deletable": true,
    "editable": true
   },
   "source": [
    "### Convolution and Max Pooling Layer\n",
    "Convolution layers have a lot of success with images. For this code cell, you should implement the function `conv2d_maxpool` to apply convolution then max pooling:\n",
    "* Create the weight and bias using `conv_ksize`, `conv_num_outputs` and the shape of `x_tensor`.\n",
    "* Apply a convolution to `x_tensor` using weight and `conv_strides`.\n",
    " * We recommend you use same padding, but you're welcome to use any padding.\n",
    "* Add bias\n",
    "* Add a nonlinear activation to the convolution.\n",
    "* Apply Max Pooling using `pool_ksize` and `pool_strides`.\n",
    " * We recommend you use same padding, but you're welcome to use any padding.\n",
    "\n",
    "**Note:** You **can't** use [TensorFlow Layers](https://www.tensorflow.org/api_docs/python/tf/layers) or [TensorFlow Layers (contrib)](https://www.tensorflow.org/api_guides/python/contrib.layers) for **this** layer, but you can still use TensorFlow's [Neural Network](https://www.tensorflow.org/api_docs/python/tf/nn) package. You may still use the shortcut option for all the **other** layers."
   ]
  },
  {
   "cell_type": "code",
   "execution_count": 8,
   "metadata": {
    "collapsed": false,
    "deletable": true,
    "editable": true
   },
   "outputs": [
    {
     "name": "stdout",
     "output_type": "stream",
     "text": [
      "Tests Passed\n"
     ]
    }
   ],
   "source": [
    "def conv2d_maxpool(x_tensor, conv_num_outputs, conv_ksize, conv_strides, pool_ksize, pool_strides):\n",
    "    \"\"\"\n",
    "    Apply convolution then max pooling to x_tensor\n",
    "    :param x_tensor: TensorFlow Tensor\n",
    "    :param conv_num_outputs: Number of outputs for the convolutional layer\n",
    "    :param conv_ksize: kernal size 2-D Tuple for the convolutional layer\n",
    "    :param conv_strides: Stride 2-D Tuple for convolution\n",
    "    :param pool_ksize: kernal size 2-D Tuple for pool\n",
    "    :param pool_strides: Stride 2-D Tuple for pool\n",
    "    : return: A tensor that represents convolution and max pooling of x_tensor\n",
    "    \"\"\"\n",
    "    # TODO: Implement Function\n",
    "    _weight = tf.Variable(tf.truncated_normal([*conv_ksize, int(x_tensor.shape[3]), conv_num_outputs], stddev=0.1))\n",
    "    _bias = tf.Variable(tf.zeros(conv_num_outputs))\n",
    "    \n",
    "    _conv = tf.nn.conv2d(x_tensor, _weight, strides = [1, *conv_strides, 1], padding='SAME')\n",
    "    _conv = tf.nn.bias_add(_conv, _bias)\n",
    "    _conv = tf.nn.relu(_conv)\n",
    "    \n",
    "    _pool = tf.nn.max_pool(_conv, [1, *pool_ksize, 1], [1, *pool_strides, 1], padding='SAME')\n",
    "    \n",
    "    return _pool\n",
    "\n",
    "\n",
    "\"\"\"\n",
    "DON'T MODIFY ANYTHING IN THIS CELL THAT IS BELOW THIS LINE\n",
    "\"\"\"\n",
    "tests.test_con_pool(conv2d_maxpool)"
   ]
  },
  {
   "cell_type": "markdown",
   "metadata": {
    "deletable": true,
    "editable": true
   },
   "source": [
    "### Flatten Layer\n",
    "Implement the `flatten` function to change the dimension of `x_tensor` from a 4-D tensor to a 2-D tensor.  The output should be the shape (*Batch Size*, *Flattened Image Size*). Shortcut option: you can use classes from the [TensorFlow Layers](https://www.tensorflow.org/api_docs/python/tf/layers) or [TensorFlow Layers (contrib)](https://www.tensorflow.org/api_guides/python/contrib.layers) packages for this layer. For more of a challenge, only use other TensorFlow packages."
   ]
  },
  {
   "cell_type": "code",
   "execution_count": 9,
   "metadata": {
    "collapsed": false,
    "deletable": true,
    "editable": true
   },
   "outputs": [
    {
     "name": "stdout",
     "output_type": "stream",
     "text": [
      "Tests Passed\n"
     ]
    }
   ],
   "source": [
    "def flatten(x_tensor):\n",
    "    \"\"\"\n",
    "    Flatten x_tensor to (Batch Size, Flattened Image Size)\n",
    "    : x_tensor: A tensor of size (Batch Size, ...), where ... are the image dimensions.\n",
    "    : return: A tensor of size (Batch Size, Flattened Image Size).\n",
    "    \"\"\"\n",
    "    # TODO: Implement Function\n",
    "    _batch_size, *_img_size = x_tensor.get_shape().as_list()\n",
    "    #print (_batch_size, _img_size)\n",
    "    _flat = tf.reshape(x_tensor, [-1, np.prod(_img_size)])\n",
    "    return _flat\n",
    "\n",
    "\n",
    "\"\"\"\n",
    "DON'T MODIFY ANYTHING IN THIS CELL THAT IS BELOW THIS LINE\n",
    "\"\"\"\n",
    "tests.test_flatten(flatten)"
   ]
  },
  {
   "cell_type": "markdown",
   "metadata": {
    "deletable": true,
    "editable": true
   },
   "source": [
    "### Fully-Connected Layer\n",
    "Implement the `fully_conn` function to apply a fully connected layer to `x_tensor` with the shape (*Batch Size*, *num_outputs*). Shortcut option: you can use classes from the [TensorFlow Layers](https://www.tensorflow.org/api_docs/python/tf/layers) or [TensorFlow Layers (contrib)](https://www.tensorflow.org/api_guides/python/contrib.layers) packages for this layer. For more of a challenge, only use other TensorFlow packages."
   ]
  },
  {
   "cell_type": "code",
   "execution_count": 10,
   "metadata": {
    "collapsed": false,
    "deletable": true,
    "editable": true
   },
   "outputs": [
    {
     "name": "stdout",
     "output_type": "stream",
     "text": [
      "Tests Passed\n"
     ]
    }
   ],
   "source": [
    "def fully_conn(x_tensor, num_outputs):\n",
    "    \"\"\"\n",
    "    Apply a fully connected layer to x_tensor using weight and bias\n",
    "    : x_tensor: A 2-D tensor where the first dimension is batch size.\n",
    "    : num_outputs: The number of output that the new tensor should be.\n",
    "    : return: A 2-D tensor where the second dimension is num_outputs.\n",
    "    \"\"\"\n",
    "    # TODO: Implement Function\n",
    "    _weight = tf.Variable(\\\n",
    "        tf.truncated_normal([int(x_tensor.get_shape().as_list()[1]), num_outputs], stddev=0.1))\n",
    "\n",
    "    _bias = tf.Variable(tf.zeros(num_outputs))\n",
    "    \n",
    "    _fc = tf.nn.relu(tf.add(tf.matmul(x_tensor, _weight), _bias))\n",
    "    \n",
    "    return _fc\n",
    "\n",
    "\n",
    "\"\"\"\n",
    "DON'T MODIFY ANYTHING IN THIS CELL THAT IS BELOW THIS LINE\n",
    "\"\"\"\n",
    "tests.test_fully_conn(fully_conn)"
   ]
  },
  {
   "cell_type": "markdown",
   "metadata": {
    "deletable": true,
    "editable": true
   },
   "source": [
    "### Output Layer\n",
    "Implement the `output` function to apply a fully connected layer to `x_tensor` with the shape (*Batch Size*, *num_outputs*). Shortcut option: you can use classes from the [TensorFlow Layers](https://www.tensorflow.org/api_docs/python/tf/layers) or [TensorFlow Layers (contrib)](https://www.tensorflow.org/api_guides/python/contrib.layers) packages for this layer. For more of a challenge, only use other TensorFlow packages.\n",
    "\n",
    "**Note:** Activation, softmax, or cross entropy should **not** be applied to this."
   ]
  },
  {
   "cell_type": "code",
   "execution_count": 11,
   "metadata": {
    "collapsed": false,
    "deletable": true,
    "editable": true
   },
   "outputs": [
    {
     "name": "stdout",
     "output_type": "stream",
     "text": [
      "Tests Passed\n"
     ]
    }
   ],
   "source": [
    "def output(x_tensor, num_outputs):\n",
    "    \"\"\"\n",
    "    Apply a output layer to x_tensor using weight and bias\n",
    "    : x_tensor: A 2-D tensor where the first dimension is batch size.\n",
    "    : num_outputs: The number of output that the new tensor should be.\n",
    "    : return: A 2-D tensor where the second dimension is num_outputs.\n",
    "    \"\"\"\n",
    "    # TODO: Implement Function\n",
    "    _weight = tf.Variable(tf.truncated_normal([int(x_tensor.get_shape().as_list()[1]), num_outputs], stddev=0.1))\n",
    "    _bias = tf.Variable(tf.zeros(num_outputs))\n",
    "    _out = tf.add(tf.matmul(x_tensor, _weight), _bias)\n",
    "    return _out\n",
    "\n",
    "\n",
    "\"\"\"\n",
    "DON'T MODIFY ANYTHING IN THIS CELL THAT IS BELOW THIS LINE\n",
    "\"\"\"\n",
    "tests.test_output(output)"
   ]
  },
  {
   "cell_type": "markdown",
   "metadata": {
    "deletable": true,
    "editable": true
   },
   "source": [
    "### Create Convolutional Model\n",
    "Implement the function `conv_net` to create a convolutional neural network model. The function takes in a batch of images, `x`, and outputs logits.  Use the layers you created above to create this model:\n",
    "\n",
    "* Apply 1, 2, or 3 Convolution and Max Pool layers\n",
    "* Apply a Flatten Layer\n",
    "* Apply 1, 2, or 3 Fully Connected Layers\n",
    "* Apply an Output Layer\n",
    "* Return the output\n",
    "* Apply [TensorFlow's Dropout](https://www.tensorflow.org/api_docs/python/tf/nn/dropout) to one or more layers in the model using `keep_prob`. "
   ]
  },
  {
   "cell_type": "code",
   "execution_count": 12,
   "metadata": {
    "collapsed": false,
    "deletable": true,
    "editable": true
   },
   "outputs": [
    {
     "name": "stdout",
     "output_type": "stream",
     "text": [
      "Neural Network Built!\n"
     ]
    }
   ],
   "source": [
    "def conv_net(x, keep_prob):\n",
    "    \"\"\"\n",
    "    Create a convolutional neural network model\n",
    "    : x: Placeholder tensor that holds image data.\n",
    "    : keep_prob: Placeholder tensor that hold dropout keep probability.\n",
    "    : return: Tensor that represents logits\n",
    "    \"\"\"\n",
    "    # TODO: Apply 1, 2, or 3 Convolution and Max Pool layers\n",
    "    #    Play around with different number of outputs, kernel size and stride\n",
    "    # Function Definition from Above:\n",
    "    #    conv2d_maxpool(x_tensor, conv_num_outputs, conv_ksize, conv_strides, pool_ksize, pool_strides)\n",
    "    #_conv = conv2d_maxpool(x, 64, [3,3], [1,1], [2,2], [2,2])\n",
    "    _conv = conv2d_maxpool(x, 32, [3,3], [1,1], [2,2], [2,2])\n",
    "    \n",
    "    # Apply Dropout\n",
    "    _conv = tf.nn.dropout(_conv, keep_prob)\n",
    "\n",
    "    # TODO: Apply a Flatten Layer\n",
    "    # Function Definition from Above:\n",
    "    #   flatten(x_tensor)\n",
    "    _conv = flatten(_conv)\n",
    "\n",
    "    # TODO: Apply 1, 2, or 3 Fully Connected Layers\n",
    "    #    Play around with different number of outputs\n",
    "    # Function Definition from Above:\n",
    "    #   fully_conn(x_tensor, num_outputs)\n",
    "    #_conv = fully_conn(_conv, 512)\n",
    "    _conv = fully_conn(_conv, 128)\n",
    "    \n",
    "    # Apply Dropout\n",
    "    _conv = tf.nn.dropout(_conv, keep_prob)\n",
    "    \n",
    "    # TODO: Apply an Output Layer\n",
    "    #    Set this to the number of classes\n",
    "    # Function Definition from Above:\n",
    "    #   output(x_tensor, num_outputs)\n",
    "    _conv = output(_conv, 10)\n",
    "    \n",
    "    # TODO: return output\n",
    "    return _conv\n",
    "\n",
    "\n",
    "\"\"\"\n",
    "DON'T MODIFY ANYTHING IN THIS CELL THAT IS BELOW THIS LINE\n",
    "\"\"\"\n",
    "\n",
    "##############################\n",
    "## Build the Neural Network ##\n",
    "##############################\n",
    "\n",
    "# Remove previous weights, bias, inputs, etc..\n",
    "tf.reset_default_graph()\n",
    "\n",
    "# Inputs\n",
    "x = neural_net_image_input((32, 32, 3))\n",
    "y = neural_net_label_input(10)\n",
    "keep_prob = neural_net_keep_prob_input()\n",
    "\n",
    "# Model\n",
    "logits = conv_net(x, keep_prob)\n",
    "\n",
    "# Name logits Tensor, so that is can be loaded from disk after training\n",
    "logits = tf.identity(logits, name='logits')\n",
    "\n",
    "# Loss and Optimizer\n",
    "cost = tf.reduce_mean(tf.nn.softmax_cross_entropy_with_logits(logits=logits, labels=y))\n",
    "optimizer = tf.train.AdamOptimizer().minimize(cost)\n",
    "\n",
    "# Accuracy\n",
    "correct_pred = tf.equal(tf.argmax(logits, 1), tf.argmax(y, 1))\n",
    "accuracy = tf.reduce_mean(tf.cast(correct_pred, tf.float32), name='accuracy')\n",
    "\n",
    "tests.test_conv_net(conv_net)"
   ]
  },
  {
   "cell_type": "markdown",
   "metadata": {
    "deletable": true,
    "editable": true
   },
   "source": [
    "## Train the Neural Network\n",
    "### Single Optimization\n",
    "Implement the function `train_neural_network` to do a single optimization.  The optimization should use `optimizer` to optimize in `session` with a `feed_dict` of the following:\n",
    "* `x` for image input\n",
    "* `y` for labels\n",
    "* `keep_prob` for keep probability for dropout\n",
    "\n",
    "This function will be called for each batch, so `tf.global_variables_initializer()` has already been called.\n",
    "\n",
    "Note: Nothing needs to be returned. This function is only optimizing the neural network."
   ]
  },
  {
   "cell_type": "code",
   "execution_count": 13,
   "metadata": {
    "collapsed": false,
    "deletable": true,
    "editable": true
   },
   "outputs": [
    {
     "name": "stdout",
     "output_type": "stream",
     "text": [
      "Tests Passed\n"
     ]
    }
   ],
   "source": [
    "def train_neural_network(session, optimizer, keep_probability, feature_batch, label_batch):\n",
    "    \"\"\"\n",
    "    Optimize the session on a batch of images and labels\n",
    "    : session: Current TensorFlow session\n",
    "    : optimizer: TensorFlow optimizer function\n",
    "    : keep_probability: keep probability\n",
    "    : feature_batch: Batch of Numpy image data\n",
    "    : label_batch: Batch of Numpy label data\n",
    "    \"\"\"\n",
    "    # TODO: Implement Function\n",
    "    session.run(optimizer, feed_dict={x: feature_batch, y: label_batch, keep_prob: keep_probability})\n",
    "\n",
    "\n",
    "\"\"\"\n",
    "DON'T MODIFY ANYTHING IN THIS CELL THAT IS BELOW THIS LINE\n",
    "\"\"\"\n",
    "tests.test_train_nn(train_neural_network)"
   ]
  },
  {
   "cell_type": "markdown",
   "metadata": {
    "deletable": true,
    "editable": true
   },
   "source": [
    "### Show Stats\n",
    "Implement the function `print_stats` to print loss and validation accuracy.  Use the global variables `valid_features` and `valid_labels` to calculate validation accuracy.  Use a keep probability of `1.0` to calculate the loss and validation accuracy."
   ]
  },
  {
   "cell_type": "code",
   "execution_count": 14,
   "metadata": {
    "collapsed": false,
    "deletable": true,
    "editable": true
   },
   "outputs": [],
   "source": [
    "def print_stats(session, feature_batch, label_batch, cost, accuracy):\n",
    "    \"\"\"\n",
    "    Print information about loss and validation accuracy\n",
    "    : session: Current TensorFlow session\n",
    "    : feature_batch: Batch of Numpy image data\n",
    "    : label_batch: Batch of Numpy label data\n",
    "    : cost: TensorFlow cost function\n",
    "    : accuracy: TensorFlow accuracy function\n",
    "    \"\"\"\n",
    "    global valid_features, valid_labels\n",
    "    _accuracy = session.run(accuracy, feed_dict={x: valid_features, y: valid_labels, keep_prob: 1.0 })\n",
    "    _cost = session.run(cost, feed_dict = {x: feature_batch, y: label_batch, keep_prob: 1.0})\n",
    "    \n",
    "    print('Accuracy: {:.6f} Cost: {:>10.4f}'.format(_accuracy, _cost))\n",
    "    \n",
    "    "
   ]
  },
  {
   "cell_type": "markdown",
   "metadata": {
    "deletable": true,
    "editable": true
   },
   "source": [
    "### Hyperparameters\n",
    "Tune the following parameters:\n",
    "* Set `epochs` to the number of iterations until the network stops learning or start overfitting\n",
    "* Set `batch_size` to the highest number that your machine has memory for.  Most people set them to common sizes of memory:\n",
    " * 64\n",
    " * 128\n",
    " * 256\n",
    " * ...\n",
    "* Set `keep_probability` to the probability of keeping a node using dropout"
   ]
  },
  {
   "cell_type": "code",
   "execution_count": 15,
   "metadata": {
    "collapsed": true,
    "deletable": true,
    "editable": true
   },
   "outputs": [],
   "source": [
    "# TODO: Tune Parameters\n",
    "epochs = 30\n",
    "batch_size = 128\n",
    "keep_probability = 0.5"
   ]
  },
  {
   "cell_type": "markdown",
   "metadata": {
    "deletable": true,
    "editable": true
   },
   "source": [
    "### Train on a Single CIFAR-10 Batch\n",
    "Instead of training the neural network on all the CIFAR-10 batches of data, let's use a single batch. This should save time while you iterate on the model to get a better accuracy.  Once the final validation accuracy is 50% or greater, run the model on all the data in the next section."
   ]
  },
  {
   "cell_type": "code",
   "execution_count": 16,
   "metadata": {
    "collapsed": false,
    "deletable": true,
    "editable": true
   },
   "outputs": [
    {
     "name": "stdout",
     "output_type": "stream",
     "text": [
      "Checking the Training on a Single Batch...\n",
      "Epoch  1, CIFAR-10 Batch 1:  Accuracy: 0.183800 Cost:     2.2780\n",
      "Epoch  2, CIFAR-10 Batch 1:  Accuracy: 0.304400 Cost:     2.0914\n",
      "Epoch  3, CIFAR-10 Batch 1:  Accuracy: 0.386400 Cost:     1.9251\n",
      "Epoch  4, CIFAR-10 Batch 1:  Accuracy: 0.416400 Cost:     1.8059\n",
      "Epoch  5, CIFAR-10 Batch 1:  Accuracy: 0.461400 Cost:     1.6535\n",
      "Epoch  6, CIFAR-10 Batch 1:  Accuracy: 0.479000 Cost:     1.5541\n",
      "Epoch  7, CIFAR-10 Batch 1:  Accuracy: 0.486000 Cost:     1.4514\n",
      "Epoch  8, CIFAR-10 Batch 1:  Accuracy: 0.493000 Cost:     1.3627\n",
      "Epoch  9, CIFAR-10 Batch 1:  Accuracy: 0.499400 Cost:     1.2910\n",
      "Epoch 10, CIFAR-10 Batch 1:  Accuracy: 0.497400 Cost:     1.2346\n",
      "Epoch 11, CIFAR-10 Batch 1:  Accuracy: 0.505000 Cost:     1.1865\n",
      "Epoch 12, CIFAR-10 Batch 1:  Accuracy: 0.519400 Cost:     1.1117\n",
      "Epoch 13, CIFAR-10 Batch 1:  Accuracy: 0.524200 Cost:     1.0610\n",
      "Epoch 14, CIFAR-10 Batch 1:  Accuracy: 0.522000 Cost:     0.9954\n",
      "Epoch 15, CIFAR-10 Batch 1:  Accuracy: 0.523000 Cost:     0.9518\n",
      "Epoch 16, CIFAR-10 Batch 1:  Accuracy: 0.535200 Cost:     0.9359\n",
      "Epoch 17, CIFAR-10 Batch 1:  Accuracy: 0.534400 Cost:     0.8414\n",
      "Epoch 18, CIFAR-10 Batch 1:  Accuracy: 0.540800 Cost:     0.8695\n",
      "Epoch 19, CIFAR-10 Batch 1:  Accuracy: 0.543800 Cost:     0.7860\n",
      "Epoch 20, CIFAR-10 Batch 1:  Accuracy: 0.550200 Cost:     0.7644\n",
      "Epoch 21, CIFAR-10 Batch 1:  Accuracy: 0.550800 Cost:     0.7384\n",
      "Epoch 22, CIFAR-10 Batch 1:  Accuracy: 0.546600 Cost:     0.6632\n",
      "Epoch 23, CIFAR-10 Batch 1:  Accuracy: 0.550000 Cost:     0.6649\n",
      "Epoch 24, CIFAR-10 Batch 1:  Accuracy: 0.546000 Cost:     0.6321\n",
      "Epoch 25, CIFAR-10 Batch 1:  Accuracy: 0.556200 Cost:     0.5828\n",
      "Epoch 26, CIFAR-10 Batch 1:  Accuracy: 0.552200 Cost:     0.5626\n",
      "Epoch 27, CIFAR-10 Batch 1:  Accuracy: 0.560200 Cost:     0.5364\n",
      "Epoch 28, CIFAR-10 Batch 1:  Accuracy: 0.563400 Cost:     0.4762\n",
      "Epoch 29, CIFAR-10 Batch 1:  Accuracy: 0.562000 Cost:     0.5114\n",
      "Epoch 30, CIFAR-10 Batch 1:  Accuracy: 0.567400 Cost:     0.4514\n"
     ]
    }
   ],
   "source": [
    "\"\"\"\n",
    "DON'T MODIFY ANYTHING IN THIS CELL\n",
    "\"\"\"\n",
    "print('Checking the Training on a Single Batch...')\n",
    "with tf.Session() as sess:\n",
    "    # Initializing the variables\n",
    "    sess.run(tf.global_variables_initializer())\n",
    "    \n",
    "    # Training cycle\n",
    "    for epoch in range(epochs):\n",
    "        batch_i = 1\n",
    "        for batch_features, batch_labels in helper.load_preprocess_training_batch(batch_i, batch_size):\n",
    "            train_neural_network(sess, optimizer, keep_probability, batch_features, batch_labels)\n",
    "        print('Epoch {:>2}, CIFAR-10 Batch {}:  '.format(epoch + 1, batch_i), end='')\n",
    "        print_stats(sess, batch_features, batch_labels, cost, accuracy)"
   ]
  },
  {
   "cell_type": "markdown",
   "metadata": {
    "deletable": true,
    "editable": true
   },
   "source": [
    "### Fully Train the Model\n",
    "Now that you got a good accuracy with a single CIFAR-10 batch, try it with all five batches."
   ]
  },
  {
   "cell_type": "code",
   "execution_count": 17,
   "metadata": {
    "collapsed": false,
    "deletable": true,
    "editable": true
   },
   "outputs": [
    {
     "name": "stdout",
     "output_type": "stream",
     "text": [
      "Training...\n",
      "Epoch  1, CIFAR-10 Batch 1:  Accuracy: 0.263600 Cost:     2.1270\n",
      "Epoch  1, CIFAR-10 Batch 2:  Accuracy: 0.398400 Cost:     1.8030\n",
      "Epoch  1, CIFAR-10 Batch 3:  Accuracy: 0.424600 Cost:     1.5311\n",
      "Epoch  1, CIFAR-10 Batch 4:  Accuracy: 0.455200 Cost:     1.5726\n",
      "Epoch  1, CIFAR-10 Batch 5:  Accuracy: 0.467800 Cost:     1.5360\n",
      "Epoch  2, CIFAR-10 Batch 1:  Accuracy: 0.477200 Cost:     1.6793\n",
      "Epoch  2, CIFAR-10 Batch 2:  Accuracy: 0.500000 Cost:     1.3870\n",
      "Epoch  2, CIFAR-10 Batch 3:  Accuracy: 0.503000 Cost:     1.2036\n",
      "Epoch  2, CIFAR-10 Batch 4:  Accuracy: 0.523200 Cost:     1.2914\n",
      "Epoch  2, CIFAR-10 Batch 5:  Accuracy: 0.517400 Cost:     1.4044\n",
      "Epoch  3, CIFAR-10 Batch 1:  Accuracy: 0.526400 Cost:     1.4631\n",
      "Epoch  3, CIFAR-10 Batch 2:  Accuracy: 0.538200 Cost:     1.1791\n",
      "Epoch  3, CIFAR-10 Batch 3:  Accuracy: 0.530800 Cost:     1.0101\n",
      "Epoch  3, CIFAR-10 Batch 4:  Accuracy: 0.548000 Cost:     1.1815\n",
      "Epoch  3, CIFAR-10 Batch 5:  Accuracy: 0.552000 Cost:     1.2721\n",
      "Epoch  4, CIFAR-10 Batch 1:  Accuracy: 0.554600 Cost:     1.3355\n",
      "Epoch  4, CIFAR-10 Batch 2:  Accuracy: 0.568800 Cost:     1.0716\n",
      "Epoch  4, CIFAR-10 Batch 3:  Accuracy: 0.552800 Cost:     0.9067\n",
      "Epoch  4, CIFAR-10 Batch 4:  Accuracy: 0.569000 Cost:     1.0629\n",
      "Epoch  4, CIFAR-10 Batch 5:  Accuracy: 0.571800 Cost:     1.1629\n",
      "Epoch  5, CIFAR-10 Batch 1:  Accuracy: 0.571800 Cost:     1.1948\n",
      "Epoch  5, CIFAR-10 Batch 2:  Accuracy: 0.576400 Cost:     0.9448\n",
      "Epoch  5, CIFAR-10 Batch 3:  Accuracy: 0.577400 Cost:     0.8502\n",
      "Epoch  5, CIFAR-10 Batch 4:  Accuracy: 0.584000 Cost:     1.0099\n",
      "Epoch  5, CIFAR-10 Batch 5:  Accuracy: 0.583000 Cost:     1.0621\n",
      "Epoch  6, CIFAR-10 Batch 1:  Accuracy: 0.582400 Cost:     1.1252\n",
      "Epoch  6, CIFAR-10 Batch 2:  Accuracy: 0.594000 Cost:     0.8803\n",
      "Epoch  6, CIFAR-10 Batch 3:  Accuracy: 0.590600 Cost:     0.8116\n",
      "Epoch  6, CIFAR-10 Batch 4:  Accuracy: 0.597400 Cost:     0.9362\n",
      "Epoch  6, CIFAR-10 Batch 5:  Accuracy: 0.592200 Cost:     1.0244\n",
      "Epoch  7, CIFAR-10 Batch 1:  Accuracy: 0.598400 Cost:     1.1466\n",
      "Epoch  7, CIFAR-10 Batch 2:  Accuracy: 0.595800 Cost:     0.8253\n",
      "Epoch  7, CIFAR-10 Batch 3:  Accuracy: 0.607800 Cost:     0.7392\n",
      "Epoch  7, CIFAR-10 Batch 4:  Accuracy: 0.604400 Cost:     0.8525\n",
      "Epoch  7, CIFAR-10 Batch 5:  Accuracy: 0.605400 Cost:     0.9243\n",
      "Epoch  8, CIFAR-10 Batch 1:  Accuracy: 0.612000 Cost:     1.0087\n",
      "Epoch  8, CIFAR-10 Batch 2:  Accuracy: 0.618000 Cost:     0.7432\n",
      "Epoch  8, CIFAR-10 Batch 3:  Accuracy: 0.618200 Cost:     0.6807\n",
      "Epoch  8, CIFAR-10 Batch 4:  Accuracy: 0.620800 Cost:     0.8004\n",
      "Epoch  8, CIFAR-10 Batch 5:  Accuracy: 0.605400 Cost:     0.8569\n",
      "Epoch  9, CIFAR-10 Batch 1:  Accuracy: 0.618000 Cost:     0.9462\n",
      "Epoch  9, CIFAR-10 Batch 2:  Accuracy: 0.623800 Cost:     0.7181\n",
      "Epoch  9, CIFAR-10 Batch 3:  Accuracy: 0.628200 Cost:     0.6223\n",
      "Epoch  9, CIFAR-10 Batch 4:  Accuracy: 0.626600 Cost:     0.7784\n",
      "Epoch  9, CIFAR-10 Batch 5:  Accuracy: 0.620600 Cost:     0.7675\n",
      "Epoch 10, CIFAR-10 Batch 1:  Accuracy: 0.619200 Cost:     0.9655\n",
      "Epoch 10, CIFAR-10 Batch 2:  Accuracy: 0.615800 Cost:     0.6689\n",
      "Epoch 10, CIFAR-10 Batch 3:  Accuracy: 0.632200 Cost:     0.5982\n",
      "Epoch 10, CIFAR-10 Batch 4:  Accuracy: 0.638600 Cost:     0.6895\n",
      "Epoch 10, CIFAR-10 Batch 5:  Accuracy: 0.623800 Cost:     0.7206\n",
      "Epoch 11, CIFAR-10 Batch 1:  Accuracy: 0.632400 Cost:     0.9060\n",
      "Epoch 11, CIFAR-10 Batch 2:  Accuracy: 0.635600 Cost:     0.5935\n",
      "Epoch 11, CIFAR-10 Batch 3:  Accuracy: 0.633200 Cost:     0.5638\n",
      "Epoch 11, CIFAR-10 Batch 4:  Accuracy: 0.638000 Cost:     0.6433\n",
      "Epoch 11, CIFAR-10 Batch 5:  Accuracy: 0.631600 Cost:     0.6649\n",
      "Epoch 12, CIFAR-10 Batch 1:  Accuracy: 0.636800 Cost:     0.8300\n",
      "Epoch 12, CIFAR-10 Batch 2:  Accuracy: 0.634200 Cost:     0.6147\n",
      "Epoch 12, CIFAR-10 Batch 3:  Accuracy: 0.641200 Cost:     0.4936\n",
      "Epoch 12, CIFAR-10 Batch 4:  Accuracy: 0.647400 Cost:     0.6116\n",
      "Epoch 12, CIFAR-10 Batch 5:  Accuracy: 0.631200 Cost:     0.6840\n",
      "Epoch 13, CIFAR-10 Batch 1:  Accuracy: 0.642400 Cost:     0.8351\n",
      "Epoch 13, CIFAR-10 Batch 2:  Accuracy: 0.632400 Cost:     0.5520\n",
      "Epoch 13, CIFAR-10 Batch 3:  Accuracy: 0.643600 Cost:     0.4551\n",
      "Epoch 13, CIFAR-10 Batch 4:  Accuracy: 0.650800 Cost:     0.5533\n",
      "Epoch 13, CIFAR-10 Batch 5:  Accuracy: 0.643000 Cost:     0.6379\n",
      "Epoch 14, CIFAR-10 Batch 1:  Accuracy: 0.648200 Cost:     0.7632\n",
      "Epoch 14, CIFAR-10 Batch 2:  Accuracy: 0.649200 Cost:     0.5197\n",
      "Epoch 14, CIFAR-10 Batch 3:  Accuracy: 0.649600 Cost:     0.4501\n",
      "Epoch 14, CIFAR-10 Batch 4:  Accuracy: 0.656200 Cost:     0.5710\n",
      "Epoch 14, CIFAR-10 Batch 5:  Accuracy: 0.646600 Cost:     0.6317\n",
      "Epoch 15, CIFAR-10 Batch 1:  Accuracy: 0.653600 Cost:     0.7530\n",
      "Epoch 15, CIFAR-10 Batch 2:  Accuracy: 0.652000 Cost:     0.5139\n",
      "Epoch 15, CIFAR-10 Batch 3:  Accuracy: 0.650800 Cost:     0.4293\n",
      "Epoch 15, CIFAR-10 Batch 4:  Accuracy: 0.652400 Cost:     0.5448\n",
      "Epoch 15, CIFAR-10 Batch 5:  Accuracy: 0.639200 Cost:     0.6041\n",
      "Epoch 16, CIFAR-10 Batch 1:  Accuracy: 0.658400 Cost:     0.6858\n",
      "Epoch 16, CIFAR-10 Batch 2:  Accuracy: 0.655800 Cost:     0.4590\n",
      "Epoch 16, CIFAR-10 Batch 3:  Accuracy: 0.658600 Cost:     0.3932\n",
      "Epoch 16, CIFAR-10 Batch 4:  Accuracy: 0.661000 Cost:     0.5284\n",
      "Epoch 16, CIFAR-10 Batch 5:  Accuracy: 0.655600 Cost:     0.5643\n",
      "Epoch 17, CIFAR-10 Batch 1:  Accuracy: 0.655200 Cost:     0.6299\n",
      "Epoch 17, CIFAR-10 Batch 2:  Accuracy: 0.658000 Cost:     0.4496\n",
      "Epoch 17, CIFAR-10 Batch 3:  Accuracy: 0.656800 Cost:     0.3754\n",
      "Epoch 17, CIFAR-10 Batch 4:  Accuracy: 0.664800 Cost:     0.4794\n",
      "Epoch 17, CIFAR-10 Batch 5:  Accuracy: 0.661200 Cost:     0.5427\n",
      "Epoch 18, CIFAR-10 Batch 1:  Accuracy: 0.657000 Cost:     0.6439\n",
      "Epoch 18, CIFAR-10 Batch 2:  Accuracy: 0.655000 Cost:     0.4527\n",
      "Epoch 18, CIFAR-10 Batch 3:  Accuracy: 0.662200 Cost:     0.3570\n",
      "Epoch 18, CIFAR-10 Batch 4:  Accuracy: 0.664800 Cost:     0.4261\n",
      "Epoch 18, CIFAR-10 Batch 5:  Accuracy: 0.658800 Cost:     0.5293\n",
      "Epoch 19, CIFAR-10 Batch 1:  Accuracy: 0.663000 Cost:     0.6357\n",
      "Epoch 19, CIFAR-10 Batch 2:  Accuracy: 0.662000 Cost:     0.4261\n",
      "Epoch 19, CIFAR-10 Batch 3:  Accuracy: 0.666600 Cost:     0.3614\n",
      "Epoch 19, CIFAR-10 Batch 4:  Accuracy: 0.661000 Cost:     0.4330\n",
      "Epoch 19, CIFAR-10 Batch 5:  Accuracy: 0.664400 Cost:     0.4806\n",
      "Epoch 20, CIFAR-10 Batch 1:  Accuracy: 0.662200 Cost:     0.5798\n",
      "Epoch 20, CIFAR-10 Batch 2:  Accuracy: 0.662000 Cost:     0.3847\n",
      "Epoch 20, CIFAR-10 Batch 3:  Accuracy: 0.657400 Cost:     0.3412\n",
      "Epoch 20, CIFAR-10 Batch 4:  Accuracy: 0.665200 Cost:     0.3982\n",
      "Epoch 20, CIFAR-10 Batch 5:  Accuracy: 0.659800 Cost:     0.4472\n",
      "Epoch 21, CIFAR-10 Batch 1:  Accuracy: 0.664200 Cost:     0.5446\n",
      "Epoch 21, CIFAR-10 Batch 2:  Accuracy: 0.667200 Cost:     0.4026\n",
      "Epoch 21, CIFAR-10 Batch 3:  Accuracy: 0.663400 Cost:     0.3219\n",
      "Epoch 21, CIFAR-10 Batch 4:  Accuracy: 0.671400 Cost:     0.3696\n",
      "Epoch 21, CIFAR-10 Batch 5:  Accuracy: 0.666400 Cost:     0.4002\n",
      "Epoch 22, CIFAR-10 Batch 1:  Accuracy: 0.676800 Cost:     0.5473\n",
      "Epoch 22, CIFAR-10 Batch 2:  Accuracy: 0.670000 Cost:     0.3852\n",
      "Epoch 22, CIFAR-10 Batch 3:  Accuracy: 0.662400 Cost:     0.2942\n",
      "Epoch 22, CIFAR-10 Batch 4:  Accuracy: 0.669200 Cost:     0.3473\n",
      "Epoch 22, CIFAR-10 Batch 5:  Accuracy: 0.660200 Cost:     0.4149\n",
      "Epoch 23, CIFAR-10 Batch 1:  Accuracy: 0.660400 Cost:     0.5033\n",
      "Epoch 23, CIFAR-10 Batch 2:  Accuracy: 0.668200 Cost:     0.3016\n",
      "Epoch 23, CIFAR-10 Batch 3:  Accuracy: 0.669000 Cost:     0.3070\n",
      "Epoch 23, CIFAR-10 Batch 4:  Accuracy: 0.668000 Cost:     0.3594\n",
      "Epoch 23, CIFAR-10 Batch 5:  Accuracy: 0.675400 Cost:     0.3675\n",
      "Epoch 24, CIFAR-10 Batch 1:  Accuracy: 0.663600 Cost:     0.5000\n",
      "Epoch 24, CIFAR-10 Batch 2:  Accuracy: 0.660800 Cost:     0.3632\n",
      "Epoch 24, CIFAR-10 Batch 3:  Accuracy: 0.667000 Cost:     0.2863\n",
      "Epoch 24, CIFAR-10 Batch 4:  Accuracy: 0.671800 Cost:     0.3566\n",
      "Epoch 24, CIFAR-10 Batch 5:  Accuracy: 0.675600 Cost:     0.3721\n",
      "Epoch 25, CIFAR-10 Batch 1:  Accuracy: 0.675600 Cost:     0.4397\n",
      "Epoch 25, CIFAR-10 Batch 2:  Accuracy: 0.665200 Cost:     0.3729\n",
      "Epoch 25, CIFAR-10 Batch 3:  Accuracy: 0.663200 Cost:     0.2444\n",
      "Epoch 25, CIFAR-10 Batch 4:  Accuracy: 0.671000 Cost:     0.3235\n",
      "Epoch 25, CIFAR-10 Batch 5:  Accuracy: 0.676800 Cost:     0.3545\n",
      "Epoch 26, CIFAR-10 Batch 1:  Accuracy: 0.666200 Cost:     0.4466\n",
      "Epoch 26, CIFAR-10 Batch 2:  Accuracy: 0.672800 Cost:     0.2950\n",
      "Epoch 26, CIFAR-10 Batch 3:  Accuracy: 0.667600 Cost:     0.2479\n",
      "Epoch 26, CIFAR-10 Batch 4:  Accuracy: 0.677400 Cost:     0.2953\n",
      "Epoch 26, CIFAR-10 Batch 5:  Accuracy: 0.672400 Cost:     0.3285\n",
      "Epoch 27, CIFAR-10 Batch 1:  Accuracy: 0.662400 Cost:     0.4298\n",
      "Epoch 27, CIFAR-10 Batch 2:  Accuracy: 0.675000 Cost:     0.3217\n",
      "Epoch 27, CIFAR-10 Batch 3:  Accuracy: 0.668000 Cost:     0.2450\n",
      "Epoch 27, CIFAR-10 Batch 4:  Accuracy: 0.677200 Cost:     0.2736\n",
      "Epoch 27, CIFAR-10 Batch 5:  Accuracy: 0.677600 Cost:     0.3108\n",
      "Epoch 28, CIFAR-10 Batch 1:  Accuracy: 0.676000 Cost:     0.4037\n",
      "Epoch 28, CIFAR-10 Batch 2:  Accuracy: 0.668400 Cost:     0.2972\n",
      "Epoch 28, CIFAR-10 Batch 3:  Accuracy: 0.669200 Cost:     0.2710\n",
      "Epoch 28, CIFAR-10 Batch 4:  Accuracy: 0.669400 Cost:     0.2933\n",
      "Epoch 28, CIFAR-10 Batch 5:  Accuracy: 0.665000 Cost:     0.3043\n",
      "Epoch 29, CIFAR-10 Batch 1:  Accuracy: 0.672400 Cost:     0.3886\n",
      "Epoch 29, CIFAR-10 Batch 2:  Accuracy: 0.674800 Cost:     0.2611\n",
      "Epoch 29, CIFAR-10 Batch 3:  Accuracy: 0.665600 Cost:     0.2496\n",
      "Epoch 29, CIFAR-10 Batch 4:  Accuracy: 0.671800 Cost:     0.2862\n",
      "Epoch 29, CIFAR-10 Batch 5:  Accuracy: 0.674200 Cost:     0.2964\n",
      "Epoch 30, CIFAR-10 Batch 1:  Accuracy: 0.680600 Cost:     0.3483\n",
      "Epoch 30, CIFAR-10 Batch 2:  Accuracy: 0.679600 Cost:     0.2792\n",
      "Epoch 30, CIFAR-10 Batch 3:  Accuracy: 0.673400 Cost:     0.2356\n",
      "Epoch 30, CIFAR-10 Batch 4:  Accuracy: 0.671000 Cost:     0.2562\n",
      "Epoch 30, CIFAR-10 Batch 5:  Accuracy: 0.678600 Cost:     0.2600\n"
     ]
    }
   ],
   "source": [
    "\"\"\"\n",
    "DON'T MODIFY ANYTHING IN THIS CELL\n",
    "\"\"\"\n",
    "save_model_path = './image_classification'\n",
    "\n",
    "print('Training...')\n",
    "with tf.Session() as sess:\n",
    "    # Initializing the variables\n",
    "    sess.run(tf.global_variables_initializer())\n",
    "    \n",
    "    # Training cycle\n",
    "    for epoch in range(epochs):\n",
    "        # Loop over all batches\n",
    "        n_batches = 5\n",
    "        for batch_i in range(1, n_batches + 1):\n",
    "            for batch_features, batch_labels in helper.load_preprocess_training_batch(batch_i, batch_size):\n",
    "                train_neural_network(sess, optimizer, keep_probability, batch_features, batch_labels)\n",
    "            print('Epoch {:>2}, CIFAR-10 Batch {}:  '.format(epoch + 1, batch_i), end='')\n",
    "            print_stats(sess, batch_features, batch_labels, cost, accuracy)\n",
    "            \n",
    "    # Save Model\n",
    "    saver = tf.train.Saver()\n",
    "    save_path = saver.save(sess, save_model_path)"
   ]
  },
  {
   "cell_type": "markdown",
   "metadata": {
    "deletable": true,
    "editable": true
   },
   "source": [
    "# Checkpoint\n",
    "The model has been saved to disk.\n",
    "## Test Model\n",
    "Test your model against the test dataset.  This will be your final accuracy. You should have an accuracy greater than 50%. If you don't, keep tweaking the model architecture and parameters."
   ]
  },
  {
   "cell_type": "code",
   "execution_count": 18,
   "metadata": {
    "collapsed": false,
    "deletable": true,
    "editable": true
   },
   "outputs": [
    {
     "name": "stdout",
     "output_type": "stream",
     "text": [
      "Testing Accuracy: 0.6763251582278481\n",
      "\n"
     ]
    },
    {
     "data": {
      "image/png": "[encoded data removed]",
      "text/plain": [
       "<matplotlib.figure.Figure at 0x7f64bae5fef0>"
      ]
     },
     "metadata": {
      "image/png": {
       "height": 319,
       "width": 355
      }
     },
     "output_type": "display_data"
    }
   ],
   "source": [
    "\"\"\"\n",
    "DON'T MODIFY ANYTHING IN THIS CELL\n",
    "\"\"\"\n",
    "%matplotlib inline\n",
    "%config InlineBackend.figure_format = 'retina'\n",
    "\n",
    "import tensorflow as tf\n",
    "import pickle\n",
    "import helper\n",
    "import random\n",
    "\n",
    "# Set batch size if not already set\n",
    "try:\n",
    "    if batch_size:\n",
    "        pass\n",
    "except NameError:\n",
    "    batch_size = 64\n",
    "\n",
    "save_model_path = './image_classification'\n",
    "n_samples = 4\n",
    "top_n_predictions = 3\n",
    "\n",
    "def test_model():\n",
    "    \"\"\"\n",
    "    Test the saved model against the test dataset\n",
    "    \"\"\"\n",
    "\n",
    "    test_features, test_labels = pickle.load(open('preprocess_training.p', mode='rb'))\n",
    "    loaded_graph = tf.Graph()\n",
    "\n",
    "    with tf.Session(graph=loaded_graph) as sess:\n",
    "        # Load model\n",
    "        loader = tf.train.import_meta_graph(save_model_path + '.meta')\n",
    "        loader.restore(sess, save_model_path)\n",
    "\n",
    "        # Get Tensors from loaded model\n",
    "        loaded_x = loaded_graph.get_tensor_by_name('x:0')\n",
    "        loaded_y = loaded_graph.get_tensor_by_name('y:0')\n",
    "        loaded_keep_prob = loaded_graph.get_tensor_by_name('keep_prob:0')\n",
    "        loaded_logits = loaded_graph.get_tensor_by_name('logits:0')\n",
    "        loaded_acc = loaded_graph.get_tensor_by_name('accuracy:0')\n",
    "        \n",
    "        # Get accuracy in batches for memory limitations\n",
    "        test_batch_acc_total = 0\n",
    "        test_batch_count = 0\n",
    "        \n",
    "        for train_feature_batch, train_label_batch in helper.batch_features_labels(test_features, test_labels, batch_size):\n",
    "            test_batch_acc_total += sess.run(\n",
    "                loaded_acc,\n",
    "                feed_dict={loaded_x: train_feature_batch, loaded_y: train_label_batch, loaded_keep_prob: 1.0})\n",
    "            test_batch_count += 1\n",
    "\n",
    "        print('Testing Accuracy: {}\\n'.format(test_batch_acc_total/test_batch_count))\n",
    "\n",
    "        # Print Random Samples\n",
    "        random_test_features, random_test_labels = tuple(zip(*random.sample(list(zip(test_features, test_labels)), n_samples)))\n",
    "        random_test_predictions = sess.run(\n",
    "            tf.nn.top_k(tf.nn.softmax(loaded_logits), top_n_predictions),\n",
    "            feed_dict={loaded_x: random_test_features, loaded_y: random_test_labels, loaded_keep_prob: 1.0})\n",
    "        helper.display_image_predictions(random_test_features, random_test_labels, random_test_predictions)\n",
    "\n",
    "\n",
    "test_model()"
   ]
  },
  {
   "cell_type": "markdown",
   "metadata": {
    "deletable": true,
    "editable": true
   },
   "source": [
    "## Why 50-80% Accuracy?\n",
    "You might be wondering why you can't get an accuracy any higher. First things first, 50% isn't bad for a simple CNN.  Pure guessing would get you 10% accuracy. However, you might notice people are getting scores [well above 80%](http://rodrigob.github.io/are_we_there_yet/build/classification_datasets_results.html#43494641522d3130).  That's because we haven't taught you all there is to know about neural networks. We still need to cover a few more techniques.\n",
    "## Submitting This Project\n",
    "When submitting this project, make sure to run all the cells before saving the notebook.  Save the notebook file as \"dlnd_image_classification.ipynb\" and save it as a HTML file under \"File\" -> \"Download as\".  Include the \"helper.py\" and \"problem_unittests.py\" files in your submission."
   ]
  }
 ],
 "metadata": {
  "kernelspec": {
   "display_name": "Python 3",
   "language": "python",
   "name": "python3"
  },
  "language_info": {
   "codemirror_mode": {
    "name": "ipython",
    "version": 3
   },
   "file_extension": ".py",
   "mimetype": "text/x-python",
   "name": "python",
   "nbconvert_exporter": "python",
   "pygments_lexer": "ipython3",
   "version": "3.5.2"
  },
  "widgets": {
   "state": {},
   "version": "1.1.2"
  }
 },
 "nbformat": 4,
 "nbformat_minor": 0
}
